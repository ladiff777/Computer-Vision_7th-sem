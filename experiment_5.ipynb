{
  "nbformat": 4,
  "nbformat_minor": 0,
  "metadata": {
    "colab": {
      "provenance": [],
      "authorship_tag": "ABX9TyPnoCHjVvcH9suCx5aumdPX",
      "include_colab_link": true
    },
    "kernelspec": {
      "name": "python3",
      "display_name": "Python 3"
    },
    "language_info": {
      "name": "python"
    }
  },
  "cells": [
    {
      "cell_type": "markdown",
      "metadata": {
        "id": "view-in-github",
        "colab_type": "text"
      },
      "source": [
        "<a href=\"https://colab.research.google.com/github/ladiff777/Computer-Vision_7th-sem/blob/main/experiment_5.ipynb\" target=\"_parent\"><img src=\"https://colab.research.google.com/assets/colab-badge.svg\" alt=\"Open In Colab\"/></a>"
      ]
    },
    {
      "cell_type": "code",
      "execution_count": 38,
      "metadata": {
        "id": "wBpKlKLucDWw"
      },
      "outputs": [],
      "source": [
        "import pandas as pd\n",
        "import numpy as np\n",
        "from sklearn.preprocessing import RobustScaler\n",
        "from sklearn.linear_model import LogisticRegression\n",
        "from sklearn.model_selection import train_test_split\n",
        "from sklearn.metrics import accuracy_score\n",
        "from sklearn.datasets import load_breast_cancer\n",
        "from sklearn.metrics import confusion_matrix, classification_report,f1_score,recall_score,roc_auc_score, roc_curve\n",
        "import matplotlib.pyplot as plt\n",
        "import seaborn as sns\n",
        "from matplotlib import rc,rcParams\n",
        "import itertools\n",
        "\n",
        "import warnings\n",
        "warnings.filterwarnings(\"ignore\", category=DeprecationWarning)\n",
        "warnings.filterwarnings(\"ignore\", category=FutureWarning)\n",
        "warnings.filterwarnings(\"ignore\", category=UserWarning)"
      ]
    },
    {
      "cell_type": "code",
      "source": [
        "# import the necessary libraries\n",
        "from sklearn.datasets import load_breast_cancer\n",
        "from sklearn.linear_model import LogisticRegression\n",
        "from sklearn.model_selection import train_test_split\n",
        "from sklearn.metrics import accuracy_score\n",
        "# load the breast cancer dataset\n",
        "X, y = load_breast_cancer(return_X_y=True)\n",
        "# split the train and test dataset\n",
        "X_train, X_test,\\\n",
        "\ty_train, y_test = train_test_split(X, y,\n",
        "\t\t\t\t\t\t\t\t\ttest_size=0.20,\n",
        "\t\t\t\t\t\t\t\t\trandom_state=23)\n",
        "# LogisticRegression\n",
        "clf = LogisticRegression(random_state=0)\n",
        "clf.fit(X_train, y_train)\n",
        "# Prediction\n",
        "y_pred = clf.predict(X_test)\n",
        "\n",
        "acc = accuracy_score(y_test, y_pred)\n",
        "print(\"Logistic Regression model accuracy (in %):\", acc*100)\n"
      ],
      "metadata": {
        "colab": {
          "base_uri": "https://localhost:8080/"
        },
        "id": "Ib5vxsm3lqOY",
        "outputId": "cf2f5c8a-4ddb-47be-90f6-f9da75750b12"
      },
      "execution_count": 39,
      "outputs": [
        {
          "output_type": "stream",
          "name": "stdout",
          "text": [
            "Logistic Regression model accuracy (in %): 95.6140350877193\n"
          ]
        }
      ]
    },
    {
      "cell_type": "code",
      "source": [
        "from sklearn.datasets import load_breast_cancer\n",
        "from sklearn.model_selection import train_test_split\n",
        "from sklearn.svm import SVC\n",
        "from sklearn.ensemble import RandomForestClassifier\n",
        "from sklearn.metrics import accuracy_score\n",
        "import tensorflow as tf\n",
        "from tensorflow import keras\n",
        "\n",
        "# Load the breast cancer dataset\n",
        "data = load_breast_cancer()\n",
        "X = data.data\n",
        "y = data.target\n",
        "\n",
        "# Split the data into training and testing sets\n",
        "X_train, X_test, y_train, y_test = train_test_split(X, y, test_size=0.2, random_state=123)\n",
        "\n",
        "# 1. Convolutional Neural Network (CNN) using TensorFlow/Keras\n",
        "model = keras.Sequential([\n",
        "    keras.layers.Dense(64, activation='relu', input_shape=(X_train.shape[1],)),\n",
        "    keras.layers.Dense(1, activation='sigmoid')\n",
        "])\n",
        "model.compile(optimizer='adam', loss='binary_crossentropy', metrics=['accuracy'])\n",
        "model.fit(X_train, y_train, epochs=10)\n",
        "test_loss, test_acc = model.evaluate(X_test, y_test)\n",
        "print(f'CNN Accuracy: {test_acc}')\n",
        "\n",
        "# 2. Support Vector Machine (SVM)\n",
        "svm = SVC(kernel='linear', C=1.0)\n",
        "svm.fit(X_train, y_train)\n",
        "y_pred_svm = svm.predict(X_test)\n",
        "accuracy_svm = accuracy_score(y_test, y_pred_svm)\n",
        "print(f'SVM Accuracy: {accuracy_svm}')\n",
        "\n",
        "# 3. Random Forest\n",
        "rf = RandomForestClassifier(n_estimators=100, random_state=123)\n",
        "rf.fit(X_train, y_train)\n",
        "y_pred_rf = rf.predict(X_test)\n",
        "accuracy_rf = accuracy_score(y_test, y_pred_rf)\n",
        "print(f'Random Forest Accuracy: {accuracy_rf}')\n"
      ],
      "metadata": {
        "colab": {
          "base_uri": "https://localhost:8080/"
        },
        "id": "L88ACUy7mlVs",
        "outputId": "b83be609-1a78-4c27-b3c7-c65a928a22ab"
      },
      "execution_count": 40,
      "outputs": [
        {
          "output_type": "stream",
          "name": "stdout",
          "text": [
            "Epoch 1/10\n",
            "15/15 [==============================] - 1s 2ms/step - loss: 16.4832 - accuracy: 0.5473\n",
            "Epoch 2/10\n",
            "15/15 [==============================] - 0s 1ms/step - loss: 1.6267 - accuracy: 0.7758\n",
            "Epoch 3/10\n",
            "15/15 [==============================] - 0s 1ms/step - loss: 0.8086 - accuracy: 0.8923\n",
            "Epoch 4/10\n",
            "15/15 [==============================] - 0s 2ms/step - loss: 0.6667 - accuracy: 0.8725\n",
            "Epoch 5/10\n",
            "15/15 [==============================] - 0s 1ms/step - loss: 0.5546 - accuracy: 0.8967\n",
            "Epoch 6/10\n",
            "15/15 [==============================] - 0s 1ms/step - loss: 0.4522 - accuracy: 0.9187\n",
            "Epoch 7/10\n",
            "15/15 [==============================] - 0s 1ms/step - loss: 0.4833 - accuracy: 0.9143\n",
            "Epoch 8/10\n",
            "15/15 [==============================] - 0s 2ms/step - loss: 0.4948 - accuracy: 0.9121\n",
            "Epoch 9/10\n",
            "15/15 [==============================] - 0s 2ms/step - loss: 0.4209 - accuracy: 0.9165\n",
            "Epoch 10/10\n",
            "15/15 [==============================] - 0s 1ms/step - loss: 0.4010 - accuracy: 0.9077\n",
            "4/4 [==============================] - 0s 4ms/step - loss: 0.2961 - accuracy: 0.9298\n",
            "CNN Accuracy: 0.9298245906829834\n",
            "SVM Accuracy: 0.9824561403508771\n",
            "Random Forest Accuracy: 0.9912280701754386\n"
          ]
        }
      ]
    }
  ]
}